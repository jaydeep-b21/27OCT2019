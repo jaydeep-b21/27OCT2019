{
 "cells": [
  {
   "cell_type": "markdown",
   "metadata": {},
   "source": [
    "# Task 1:"
   ]
  },
  {
   "cell_type": "markdown",
   "metadata": {},
   "source": [
    "1.1  Write a Python Program to implement your own myreduce() function which works exactly like\n",
    "Python's built-in function reduce()."
   ]
  },
  {
   "cell_type": "code",
   "execution_count": 1,
   "metadata": {},
   "outputs": [
    {
     "name": "stdout",
     "output_type": "stream",
     "text": [
      "Sum : 197\n"
     ]
    }
   ],
   "source": [
    "def myreduce(a, n):\n",
    "    result = n[0] \n",
    "    for item in n[1:]:\n",
    "        result = a(result, item)\n",
    "    return result\n",
    "\n",
    "def sum(x,y): return x + y\n",
    "\n",
    "print (\"Sum : \"  + str(myreduce(sum, [1,3 ,5, 8, 10, 20, 50, 100])) )"
   ]
  },
  {
   "cell_type": "markdown",
   "metadata": {},
   "source": [
    "1.2  Write a Python program to implement your own myfilter() function which works exactly like\n",
    "Python's built-in function filter()"
   ]
  },
  {
   "cell_type": "code",
   "execution_count": 2,
   "metadata": {},
   "outputs": [
    {
     "name": "stdout",
     "output_type": "stream",
     "text": [
      "Filter only negative Integers:  [-7, -97, -77, -73]\n"
     ]
    }
   ],
   "source": [
    "def myfilter(a, n):\n",
    "    result = []\n",
    "    for item in n:\n",
    "        if a(item):\n",
    "            result.append(item)\n",
    "    return result\n",
    "\n",
    "def isnegative(x):\n",
    "    if (x >= 0):\n",
    "        return False\n",
    "    else:\n",
    "        return True\n",
    "print (\"Filter only negative Integers:  \"  + str(myfilter(isnegative, [5, -7, 22, -97, 54, 62, -77, 23, -73, 61])))\n"
   ]
  },
  {
   "cell_type": "markdown",
   "metadata": {},
   "source": [
    "2.\n",
    "Implement List comprehensions to produce the following lists.\n",
    "Write List comprehensions to produce the following Lists\n",
    "\n",
    "['A', 'C', 'A', 'D', 'G', 'I', ’L’, ‘ D’]\n",
    "\n",
    "['x', 'xx', 'xxx', 'xxxx', 'y', 'yy', 'yyy', 'yyyy', 'z', 'zz', 'zzz', 'zzzz']\n",
    "\n",
    "['x', 'y', 'z', 'xx', 'yy', 'zz', 'xxx', 'yyy', 'zzz', 'xxxx', 'yyyy', 'zzzz']\n",
    "\n",
    "[[2], [3], [4], [3], [4], [5], [4], [5], [6]]\n",
    "\n",
    "[[2, 3, 4, 5], [3, 4, 5, 6], [4, 5, 6, 7], [5, 6, 7, 8]]\n",
    "\n",
    "[(1, 1), (2, 1), (3, 1), (1, 2), (2, 2), (3, 2), (1, 3), (2, 3), (3, 3)]"
   ]
  },
  {
   "cell_type": "code",
   "execution_count": 3,
   "metadata": {},
   "outputs": [
    {
     "name": "stdout",
     "output_type": "stream",
     "text": [
      "['A', 'C', 'A', 'D', 'G', 'I', 'L', 'D']\n",
      "['x', 'xx', 'xxx', 'xxxx', 'y', 'yy', 'yyy', 'yyyy', 'z', 'zz', 'zzz', 'zzzz']\n",
      "['x', 'y', 'z', 'xx', 'yy', 'zz', 'xxx', 'yyy', 'zzz', 'xxxx', 'yyyy', 'zzzz']\n",
      "[[2], [3], [4], [3], [4], [5], [4], [5], [6]]\n",
      "[[2, 3, 4, 5], [3, 4, 5, 6], [4, 5, 6, 7], [5, 6, 7, 8]]\n",
      "[(1, 1), (2, 1), (3, 1), (1, 2), (2, 2), (3, 2), (1, 3), (2, 3), (3, 3)]\n"
     ]
    }
   ],
   "source": [
    "word = \"ACADGILD\"\n",
    "a_lst = [ a for a in word ]\n",
    "print (str(a_lst))\n",
    "\n",
    "\n",
    "lst1 = ['x','y','z']\n",
    "result = [ item*num for item in lst1 for num in range(1,5)  ]\n",
    "print(str(result))\n",
    "\n",
    "\n",
    "lst2 = ['x','y','z']\n",
    "result = [ item*num for num in range(1,5) for item in lst2  ]\n",
    "print(str(result))\n",
    "\n",
    "\n",
    "lst3 = [2,3,4]\n",
    "result = [ [item+num] for item in lst3 for num in range(0,3)]\n",
    "print(str(result))\n",
    "\n",
    "\n",
    "lst4 = [2,3,4,5]\n",
    "result = [ [item+num for item in lst4] for num in range(0,4)  ]\n",
    "print(str(result))\n",
    "\n",
    "\n",
    "lst5=[1,2,3]\n",
    "result = [ (b,a) for a in lst5 for b in lst5]\n",
    "print(str(result))\n"
   ]
  },
  {
   "cell_type": "markdown",
   "metadata": {},
   "source": [
    "3. Implement a function longestWord() that takes a list of words and returns the longest one."
   ]
  },
  {
   "cell_type": "code",
   "execution_count": 1,
   "metadata": {},
   "outputs": [
    {
     "name": "stdout",
     "output_type": "stream",
     "text": [
      "teacher\n"
     ]
    }
   ],
   "source": [
    "def longestWord(wlst):\n",
    "    wlen = []\n",
    "    for n in wlst:\n",
    "        wlen.append((len(n), n))\n",
    "    wlen.sort()\n",
    "    return wlen[-1][1]\n",
    "\n",
    "print(longestWord(['teacher','person' ,'who', 'helps', 'people','learn']))"
   ]
  },
  {
   "cell_type": "markdown",
   "metadata": {},
   "source": [
    "# Task 2:"
   ]
  },
  {
   "cell_type": "markdown",
   "metadata": {},
   "source": [
    "1.1\n",
    "Write a Python Program(with class concepts) to find the area of the triangle using the below\n",
    "formula.\n",
    "\n",
    "area = (s*(s-a)*(s-b)*(s-c)) ** 0.5\n",
    "\n",
    "Function to take the length of the sides of triangle from user should be defined in the parent\n",
    "class and function to calculate the area should be defined in subclass."
   ]
  },
  {
   "cell_type": "code",
   "execution_count": 2,
   "metadata": {},
   "outputs": [
    {
     "name": "stdout",
     "output_type": "stream",
     "text": [
      "Enter length of first side : 5\n",
      "Enter length of second side : 6\n",
      "Enter length of third side : 7\n",
      "area=  14.7\n"
     ]
    }
   ],
   "source": [
    "class Triangle:\n",
    "    \n",
    "    def __init__(self, a, b, c):\n",
    "        self.a = float(a)\n",
    "        self.b = float(b)\n",
    "        self.c = float(c)\n",
    "       \n",
    "    def area(self):\n",
    "        s = (self.a+self.b+self.c) / 2\n",
    "        area = float(round((s*(s-self.a)*(s-self.b)*(s-self.c))**0.5, 2))\n",
    "        return area\n",
    "\n",
    "    \n",
    "side1 = float(input(\"Enter length of first side : \"))\n",
    "side2 = float(input(\"Enter length of second side : \"))\n",
    "side3 = float(input(\"Enter length of third side : \"))\n",
    "\n",
    "x = Triangle(side1,side2,side3)\n",
    "print('area= ', x.area())"
   ]
  },
  {
   "cell_type": "markdown",
   "metadata": {},
   "source": [
    "1.2\n",
    "Write a function filter_long_words() that takes a list of words and an integer n and returns the list\n",
    "of words that are longer than n."
   ]
  },
  {
   "cell_type": "code",
   "execution_count": 3,
   "metadata": {},
   "outputs": [
    {
     "name": "stdout",
     "output_type": "stream",
     "text": [
      "Enter a number:2\n",
      "Enter a sentence:i am not a kid anymore\n",
      "['not', 'kid', 'anymore']\n"
     ]
    }
   ],
   "source": [
    "n= int(input(\"Enter a number:\"))\n",
    "string= input(\"Enter a sentence:\")\n",
    "\n",
    "def filter_long_words(n, string):\n",
    "    wlen = []  \n",
    "    txt = string.split(\" \")  \n",
    "    for x in txt:  \n",
    "        if len(x) > n:  \n",
    "            wlen.append(x)  \n",
    "    return wlen   \n",
    "print(filter_long_words(n, string)) "
   ]
  },
  {
   "cell_type": "markdown",
   "metadata": {},
   "source": [
    "2.1\n",
    "Write a Python program using function concept that maps list of words into a list of integers\n",
    "representing the lengths of the corresponding words .\n",
    "Hint: If a list [ ab,cde,erty] is passed on to the python function output should come as [2,3,4]\n",
    "Here 2,3 and 4 are the lengths of the words in the list."
   ]
  },
  {
   "cell_type": "code",
   "execution_count": 4,
   "metadata": {},
   "outputs": [
    {
     "name": "stdout",
     "output_type": "stream",
     "text": [
      "[7, 7, 9, 8, 8]\n"
     ]
    }
   ],
   "source": [
    "def listOfWords(wlst):\n",
    "    wlen = []\n",
    "    for i in wlst:\n",
    "        wlen.append(len(i))\n",
    "    return wlen\n",
    "\n",
    "print(listOfWords(['wordOne','wordTwo','wordThree','wordFour','wordFive']))\n"
   ]
  },
  {
   "cell_type": "markdown",
   "metadata": {},
   "source": [
    "2.2\n",
    "Write a Python function which takes a character (i.e. a string of length 1) and returns True if it is\n",
    "a vowel, False otherwise."
   ]
  },
  {
   "cell_type": "code",
   "execution_count": 5,
   "metadata": {},
   "outputs": [
    {
     "name": "stdout",
     "output_type": "stream",
     "text": [
      "True\n",
      "False\n"
     ]
    }
   ],
   "source": [
    "def vowel1(strvalue):\n",
    "    vowels = 'aeiou'\n",
    "    return strvalue in vowels\n",
    "print(vowel1('a'))\n",
    "print(vowel1('t'))"
   ]
  },
  {
   "cell_type": "code",
   "execution_count": null,
   "metadata": {},
   "outputs": [],
   "source": []
  }
 ],
 "metadata": {
  "kernelspec": {
   "display_name": "Python 3",
   "language": "python",
   "name": "python3"
  },
  "language_info": {
   "codemirror_mode": {
    "name": "ipython",
    "version": 3
   },
   "file_extension": ".py",
   "mimetype": "text/x-python",
   "name": "python",
   "nbconvert_exporter": "python",
   "pygments_lexer": "ipython3",
   "version": "3.7.3"
  }
 },
 "nbformat": 4,
 "nbformat_minor": 2
}
